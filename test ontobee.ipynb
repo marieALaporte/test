{
 "cells": [
  {
   "cell_type": "markdown",
   "metadata": {},
   "source": [
    "# Test Ontobee SPARQL endpoint"
   ]
  },
  {
   "cell_type": "markdown",
   "metadata": {},
   "source": [
    "uses <a href=\"https://github.com/paulovn/sparql-kernel\">sparql-kernel</a>\n",
    "\n",
    "default options:"
   ]
  },
  {
   "cell_type": "code",
   "execution_count": 8,
   "metadata": {
    "collapsed": false,
    "scrolled": true
   },
   "outputs": [
    {
     "data": {
      "text/html": [
       "<div class=\"krn-spql\"><div class=\"magic\">Result maximum size: 80</div><div class=\"magic\">Return format: DEFAULT</div><div class=\"magic\">Display: table</div></div>"
      ],
      "text/plain": [
       "Result maximum size: 80\n",
       "Return format: DEFAULT\n",
       "Display: table\n"
      ]
     },
     "metadata": {},
     "output_type": "display_data"
    }
   ],
   "source": [
    "# %lsmagics\n",
    "# Modify output format\n",
    "# Don't show more than 80 results (event if more are fetched)\n",
    "%show 80\n",
    "\n",
    "# Request whatever format is appropriate for the query type\n",
    "%format default\n",
    "\n",
    "# Activate table output\n",
    "%display table"
   ]
  },
  {
   "cell_type": "markdown",
   "metadata": {
    "collapsed": false,
    "scrolled": true
   },
   "source": [
    "<h3>Simple <span style=\"color:green;font-weight: bold;\">SELECT</span> query : Select classes and labels from an OBO ontology</h3>\n",
    "\n",
    "<span style=\"color:green;font-weight: bold;\">FROM</span>: choose the ontology"
   ]
  },
  {
   "cell_type": "code",
   "execution_count": 23,
   "metadata": {
    "collapsed": false
   },
   "outputs": [
    {
     "data": {
      "text/html": [
       "<div class=\"krn-spql\"><div class=\"magic\">Endpoint set to: http://sparql.hegroup.org/sparql/</div><div class=\"magic\">Display: table</div></div>"
      ],
      "text/plain": [
       "Endpoint set to: http://sparql.hegroup.org/sparql/\n",
       "Display: table\n"
      ]
     },
     "metadata": {},
     "output_type": "display_data"
    },
    {
     "data": {
      "text/html": [
       "<div class=\"krn-spql\"><table><tr class=hdr><th>x</th>\n",
       "<th>label</th></tr><tr class=odd><td class=val><a href=\"http://purl.obolibrary.org/obo/TO_0000164\" target=\"_other\">http://purl.obolibrary.org/obo/TO_0000164</a></td>\n",
       "<td class=val>stress trait</td></tr><tr class=even><td class=val><a href=\"http://purl.obolibrary.org/obo/TO_0000357\" target=\"_other\">http://purl.obolibrary.org/obo/TO_0000357</a></td>\n",
       "<td class=val>plant growth and development trait</td></tr><tr class=odd><td class=val><a href=\"http://purl.obolibrary.org/obo/TO_0000392\" target=\"_other\">http://purl.obolibrary.org/obo/TO_0000392</a></td>\n",
       "<td class=val>sterility or fertility trait</td></tr><tr class=even><td class=val><a href=\"http://purl.obolibrary.org/obo/TO_0000597\" target=\"_other\">http://purl.obolibrary.org/obo/TO_0000597</a></td>\n",
       "<td class=val>quality trait</td></tr><tr class=odd><td class=val><a href=\"http://purl.obolibrary.org/obo/TO_0000133\" target=\"_other\">http://purl.obolibrary.org/obo/TO_0000133</a></td>\n",
       "<td class=val>stature or vigor trait</td></tr><tr class=even><td class=val><a href=\"http://purl.obolibrary.org/obo/TO_0000017\" target=\"_other\">http://purl.obolibrary.org/obo/TO_0000017</a></td>\n",
       "<td class=val>plant morphology trait</td></tr><tr class=odd><td class=val><a href=\"http://purl.obolibrary.org/obo/TO_0000371\" target=\"_other\">http://purl.obolibrary.org/obo/TO_0000371</a></td>\n",
       "<td class=val>yield trait</td></tr><tr class=even><td class=val><a href=\"http://purl.obolibrary.org/obo/TO_0000183\" target=\"_other\">http://purl.obolibrary.org/obo/TO_0000183</a></td>\n",
       "<td class=val>other miscellaneous trait</td></tr><tr class=odd><td class=val><a href=\"http://purl.obolibrary.org/obo/TO_0000277\" target=\"_other\">http://purl.obolibrary.org/obo/TO_0000277</a></td>\n",
       "<td class=val>biochemical trait</td></tr></table><div class=\"tinfo\">Total: 9, Shown: 9</div></div>"
      ]
     },
     "metadata": {},
     "output_type": "display_data"
    }
   ],
   "source": [
    "%endpoint http://sparql.hegroup.org/sparql/\n",
    "%display table\n",
    "\n",
    "PREFIX obo-term: <http://purl.obolibrary.org/obo/>\n",
    "SELECT DISTINCT ?x ?label\n",
    "FROM <http://purl.obolibrary.org/obo/merged/TO>\n",
    "WHERE\n",
    "{\n",
    "?x rdfs:subClassOf obo-term:TO_0000387.\n",
    "?x rdfs:label  ?label.\n",
    "}"
   ]
  },
  {
   "cell_type": "markdown",
   "metadata": {
    "collapsed": true
   },
   "source": [
    "<h3>Construct example</h3>"
   ]
  },
  {
   "cell_type": "code",
   "execution_count": 12,
   "metadata": {
    "collapsed": false
   },
   "outputs": [
    {
     "data": {
      "text/html": [
       "<div class=\"krn-spql\"><div class=\"magic\">Endpoint set to: http://sparql.hegroup.org/sparql/</div><div class=\"magic\">Display: svg</div></div>"
      ],
      "text/plain": [
       "Endpoint set to: http://sparql.hegroup.org/sparql/\n",
       "Display: svg\n"
      ]
     },
     "metadata": {},
     "output_type": "display_data"
    },
    {
     "data": {
      "image/svg+xml": [
       "<?xml version=\"1.0\" encoding=\"UTF-8\" standalone=\"no\"?>\n",
       "<!DOCTYPE svg PUBLIC \"-//W3C//DTD SVG 1.1//EN\"\n",
       " \"http://www.w3.org/Graphics/SVG/1.1/DTD/svg11.dtd\">\n",
       "<!-- Generated by graphviz version 2.28.0 (20111028.1807)\n",
       " -->\n",
       "<!-- Title: _anonymous_0 Pages: 1 -->\n",
       "<svg width=\"771pt\" height=\"128pt\"\n",
       " viewBox=\"0.00 0.00 771.44 128.00\" xmlns=\"http://www.w3.org/2000/svg\" xmlns:xlink=\"http://www.w3.org/1999/xlink\">\n",
       "<g id=\"graph1\" class=\"graph\" transform=\"scale(1 1) rotate(0) translate(4 124)\">\n",
       "<title>_anonymous_0</title>\n",
       "<polygon fill=\"white\" stroke=\"white\" points=\"-4,5 -4,-124 768.443,-124 768.443,5 -4,5\"/>\n",
       "<!-- node0 -->\n",
       "<g id=\"node1\" class=\"node\"><title>node0</title>\n",
       "<a xlink:href=\"http://purl.obolibrary.org/obo/TO_0000017\" xlink:title=\"TO\\n0000017\" target=\"_other\">\n",
       "<text text-anchor=\"middle\" x=\"29\" y=\"-104.2\" font-family=\"DejaVu Sans,Tahoma,Geneva,sans-serif\" font-size=\"11.00\" fill=\"blue\">TO</text>\n",
       "<text text-anchor=\"middle\" x=\"29\" y=\"-91\" font-family=\"DejaVu Sans,Tahoma,Geneva,sans-serif\" font-size=\"11.00\" fill=\"blue\">0000017</text>\n",
       "</a>\n",
       "</g>\n",
       "<!-- node1 -->\n",
       "<g id=\"node3\" class=\"node\"><title>node1</title>\n",
       "<a xlink:href=\"http://purl.obolibrary.org/obo/TO_0000387\" xlink:title=\"TO\\n0000387\" target=\"_other\">\n",
       "<text text-anchor=\"middle\" x=\"377\" y=\"-20.2\" font-family=\"DejaVu Sans,Tahoma,Geneva,sans-serif\" font-size=\"11.00\" fill=\"blue\">TO</text>\n",
       "<text text-anchor=\"middle\" x=\"377\" y=\"-7\" font-family=\"DejaVu Sans,Tahoma,Geneva,sans-serif\" font-size=\"11.00\" fill=\"blue\">0000387</text>\n",
       "</a>\n",
       "</g>\n",
       "<!-- node0&#45;&gt;node1 -->\n",
       "<g id=\"edge2\" class=\"edge\"><title>node0&#45;&gt;node1</title>\n",
       "<a xlink:href=\"http://www.w3.org/2000/01/rdf-schema#subClassOf\" xlink:title=\"rdfs:subClassOf\" target=\"_other\">\n",
       "<path fill=\"none\" stroke=\"#9fc9e5\" stroke-opacity=\"0.376471\" d=\"M39.4992,-83.7454C46.8334,-73.3043 57.6126,-60.743 70.5566,-54 116.16,-30.2434 265.812,-22.4332 337.728,-20.0136\"/>\n",
       "<polygon fill=\"#9fc9e5\" fill-opacity=\"0.376471\" stroke=\"#9fc9e5\" stroke-opacity=\"0.376471\" points=\"347.753,-19.6945 337.901,-24.5105 342.755,-19.8536 337.758,-20.0127 337.758,-20.0127 337.758,-20.0127 342.755,-19.8536 337.615,-15.515 347.753,-19.6945 347.753,-19.6945\"/>\n",
       "</a>\n",
       "<a xlink:href=\"http://www.w3.org/2000/01/rdf-schema#subClassOf\" xlink:title=\"rdfs:subClassOf\" target=\"_other\">\n",
       "<text text-anchor=\"middle\" x=\"103.222\" y=\"-56\" font-family=\"Times,serif\" font-size=\"10.00\" fill=\"#204080\">rdfs:subClassOf</text>\n",
       "</a>\n",
       "</g>\n",
       "<!-- node2 -->\n",
       "<g id=\"node4\" class=\"node\"><title>node2</title>\n",
       "<a xlink:href=\"http://purl.obolibrary.org/obo/TO_0000357\" xlink:title=\"TO\\n0000357\" target=\"_other\">\n",
       "<text text-anchor=\"middle\" x=\"116\" y=\"-104.2\" font-family=\"DejaVu Sans,Tahoma,Geneva,sans-serif\" font-size=\"11.00\" fill=\"blue\">TO</text>\n",
       "<text text-anchor=\"middle\" x=\"116\" y=\"-91\" font-family=\"DejaVu Sans,Tahoma,Geneva,sans-serif\" font-size=\"11.00\" fill=\"blue\">0000357</text>\n",
       "</a>\n",
       "</g>\n",
       "<!-- node2&#45;&gt;node1 -->\n",
       "<g id=\"edge4\" class=\"edge\"><title>node2&#45;&gt;node1</title>\n",
       "<a xlink:href=\"http://www.w3.org/2000/01/rdf-schema#subClassOf\" xlink:title=\"rdfs:subClassOf\" target=\"_other\">\n",
       "<path fill=\"none\" stroke=\"#9fc9e5\" stroke-opacity=\"0.376471\" d=\"M124.862,-83.9403C131.164,-73.577 140.621,-61.0292 152.557,-54 183.124,-35.9987 281.573,-26.0131 337.4,-21.6673\"/>\n",
       "<polygon fill=\"#9fc9e5\" fill-opacity=\"0.376471\" stroke=\"#9fc9e5\" stroke-opacity=\"0.376471\" points=\"347.633,-20.8967 337.999,-26.135 342.647,-21.2722 337.661,-21.6477 337.661,-21.6477 337.661,-21.6477 342.647,-21.2722 337.323,-17.1604 347.633,-20.8967 347.633,-20.8967\"/>\n",
       "</a>\n",
       "<a xlink:href=\"http://www.w3.org/2000/01/rdf-schema#subClassOf\" xlink:title=\"rdfs:subClassOf\" target=\"_other\">\n",
       "<text text-anchor=\"middle\" x=\"185.222\" y=\"-56\" font-family=\"Times,serif\" font-size=\"10.00\" fill=\"#204080\">rdfs:subClassOf</text>\n",
       "</a>\n",
       "</g>\n",
       "<!-- node3 -->\n",
       "<g id=\"node6\" class=\"node\"><title>node3</title>\n",
       "<a xlink:href=\"http://purl.obolibrary.org/obo/TO_0000277\" xlink:title=\"TO\\n0000277\" target=\"_other\">\n",
       "<text text-anchor=\"middle\" x=\"203\" y=\"-104.2\" font-family=\"DejaVu Sans,Tahoma,Geneva,sans-serif\" font-size=\"11.00\" fill=\"blue\">TO</text>\n",
       "<text text-anchor=\"middle\" x=\"203\" y=\"-91\" font-family=\"DejaVu Sans,Tahoma,Geneva,sans-serif\" font-size=\"11.00\" fill=\"blue\">0000277</text>\n",
       "</a>\n",
       "</g>\n",
       "<!-- node3&#45;&gt;node1 -->\n",
       "<g id=\"edge6\" class=\"edge\"><title>node3&#45;&gt;node1</title>\n",
       "<a xlink:href=\"http://www.w3.org/2000/01/rdf-schema#subClassOf\" xlink:title=\"rdfs:subClassOf\" target=\"_other\">\n",
       "<path fill=\"none\" stroke=\"#9fc9e5\" stroke-opacity=\"0.376471\" d=\"M209.816,-83.8307C214.692,-73.6935 222.228,-61.4298 232.557,-54 263.42,-31.7994 306.606,-23.5599 337.705,-20.565\"/>\n",
       "<polygon fill=\"#9fc9e5\" fill-opacity=\"0.376471\" stroke=\"#9fc9e5\" stroke-opacity=\"0.376471\" points=\"347.753,-19.7378 338.156,-25.0432 342.77,-20.1481 337.787,-20.5584 337.787,-20.5584 337.787,-20.5584 342.77,-20.1481 337.418,-16.0735 347.753,-19.7378 347.753,-19.7378\"/>\n",
       "</a>\n",
       "<a xlink:href=\"http://www.w3.org/2000/01/rdf-schema#subClassOf\" xlink:title=\"rdfs:subClassOf\" target=\"_other\">\n",
       "<text text-anchor=\"middle\" x=\"265.222\" y=\"-56\" font-family=\"Times,serif\" font-size=\"10.00\" fill=\"#204080\">rdfs:subClassOf</text>\n",
       "</a>\n",
       "</g>\n",
       "<!-- node4 -->\n",
       "<g id=\"node8\" class=\"node\"><title>node4</title>\n",
       "<a xlink:href=\"http://purl.obolibrary.org/obo/TO_0000597\" xlink:title=\"TO\\n0000597\" target=\"_other\">\n",
       "<text text-anchor=\"middle\" x=\"290\" y=\"-104.2\" font-family=\"DejaVu Sans,Tahoma,Geneva,sans-serif\" font-size=\"11.00\" fill=\"blue\">TO</text>\n",
       "<text text-anchor=\"middle\" x=\"290\" y=\"-91\" font-family=\"DejaVu Sans,Tahoma,Geneva,sans-serif\" font-size=\"11.00\" fill=\"blue\">0000597</text>\n",
       "</a>\n",
       "</g>\n",
       "<!-- node4&#45;&gt;node1 -->\n",
       "<g id=\"edge8\" class=\"edge\"><title>node4&#45;&gt;node1</title>\n",
       "<a xlink:href=\"http://www.w3.org/2000/01/rdf-schema#subClassOf\" xlink:title=\"rdfs:subClassOf\" target=\"_other\">\n",
       "<path fill=\"none\" stroke=\"#9fc9e5\" stroke-opacity=\"0.376471\" d=\"M293.618,-83.7359C296.37,-74.0645 301.009,-62.3145 308.557,-54 316.674,-45.0575 327.605,-38.0638 338.345,-32.7585\"/>\n",
       "<polygon fill=\"#9fc9e5\" fill-opacity=\"0.376471\" stroke=\"#9fc9e5\" stroke-opacity=\"0.376471\" points=\"347.66,-28.5244 340.419,-36.7593 343.108,-30.5935 338.556,-32.6627 338.556,-32.6627 338.556,-32.6627 343.108,-30.5935 336.694,-28.5661 347.66,-28.5244 347.66,-28.5244\"/>\n",
       "</a>\n",
       "<a xlink:href=\"http://www.w3.org/2000/01/rdf-schema#subClassOf\" xlink:title=\"rdfs:subClassOf\" target=\"_other\">\n",
       "<text text-anchor=\"middle\" x=\"341.222\" y=\"-56\" font-family=\"Times,serif\" font-size=\"10.00\" fill=\"#204080\">rdfs:subClassOf</text>\n",
       "</a>\n",
       "</g>\n",
       "<!-- node5 -->\n",
       "<g id=\"node10\" class=\"node\"><title>node5</title>\n",
       "<a xlink:href=\"http://purl.obolibrary.org/obo/TO_0000392\" xlink:title=\"TO\\n0000392\" target=\"_other\">\n",
       "<text text-anchor=\"middle\" x=\"377\" y=\"-104.2\" font-family=\"DejaVu Sans,Tahoma,Geneva,sans-serif\" font-size=\"11.00\" fill=\"blue\">TO</text>\n",
       "<text text-anchor=\"middle\" x=\"377\" y=\"-91\" font-family=\"DejaVu Sans,Tahoma,Geneva,sans-serif\" font-size=\"11.00\" fill=\"blue\">0000392</text>\n",
       "</a>\n",
       "</g>\n",
       "<!-- node5&#45;&gt;node1 -->\n",
       "<g id=\"edge10\" class=\"edge\"><title>node5&#45;&gt;node1</title>\n",
       "<a xlink:href=\"http://www.w3.org/2000/01/rdf-schema#subClassOf\" xlink:title=\"rdfs:subClassOf\" target=\"_other\">\n",
       "<path fill=\"none\" stroke=\"#9fc9e5\" stroke-opacity=\"0.376471\" d=\"M377,-83.6099C377,-72.7743 377,-58.6012 377,-46.2913\"/>\n",
       "<polygon fill=\"#9fc9e5\" fill-opacity=\"0.376471\" stroke=\"#9fc9e5\" stroke-opacity=\"0.376471\" points=\"377,-36.0838 381.5,-46.0838 377,-41.0838 377,-46.0838 377,-46.0838 377,-46.0838 377,-41.0838 372.5,-46.0839 377,-36.0838 377,-36.0838\"/>\n",
       "</a>\n",
       "<a xlink:href=\"http://www.w3.org/2000/01/rdf-schema#subClassOf\" xlink:title=\"rdfs:subClassOf\" target=\"_other\">\n",
       "<text text-anchor=\"middle\" x=\"409.222\" y=\"-56\" font-family=\"Times,serif\" font-size=\"10.00\" fill=\"#204080\">rdfs:subClassOf</text>\n",
       "</a>\n",
       "</g>\n",
       "<!-- node6 -->\n",
       "<g id=\"node12\" class=\"node\"><title>node6</title>\n",
       "<a xlink:href=\"http://purl.obolibrary.org/obo/TO_0000183\" xlink:title=\"TO\\n0000183\" target=\"_other\">\n",
       "<text text-anchor=\"middle\" x=\"464\" y=\"-104.2\" font-family=\"DejaVu Sans,Tahoma,Geneva,sans-serif\" font-size=\"11.00\" fill=\"blue\">TO</text>\n",
       "<text text-anchor=\"middle\" x=\"464\" y=\"-91\" font-family=\"DejaVu Sans,Tahoma,Geneva,sans-serif\" font-size=\"11.00\" fill=\"blue\">0000183</text>\n",
       "</a>\n",
       "</g>\n",
       "<!-- node6&#45;&gt;node1 -->\n",
       "<g id=\"edge12\" class=\"edge\"><title>node6&#45;&gt;node1</title>\n",
       "<a xlink:href=\"http://www.w3.org/2000/01/rdf-schema#subClassOf\" xlink:title=\"rdfs:subClassOf\" target=\"_other\">\n",
       "<path fill=\"none\" stroke=\"#9fc9e5\" stroke-opacity=\"0.376471\" d=\"M458.942,-83.785C455.422,-74.1301 449.922,-62.3801 442,-54 434.527,-46.0951 424.864,-39.5846 415.285,-34.4128\"/>\n",
       "<polygon fill=\"#9fc9e5\" fill-opacity=\"0.376471\" stroke=\"#9fc9e5\" stroke-opacity=\"0.376471\" points=\"406.201,-29.8626 417.158,-30.3178 410.672,-32.1019 415.142,-34.3412 415.142,-34.3412 415.142,-34.3412 410.672,-32.1019 413.127,-38.3647 406.201,-29.8626 406.201,-29.8626\"/>\n",
       "</a>\n",
       "<a xlink:href=\"http://www.w3.org/2000/01/rdf-schema#subClassOf\" xlink:title=\"rdfs:subClassOf\" target=\"_other\">\n",
       "<text text-anchor=\"middle\" x=\"483.222\" y=\"-56\" font-family=\"Times,serif\" font-size=\"10.00\" fill=\"#204080\">rdfs:subClassOf</text>\n",
       "</a>\n",
       "</g>\n",
       "<!-- node7 -->\n",
       "<g id=\"node14\" class=\"node\"><title>node7</title>\n",
       "<a xlink:href=\"http://purl.obolibrary.org/obo/TO_0000133\" xlink:title=\"TO\\n0000133\" target=\"_other\">\n",
       "<text text-anchor=\"middle\" x=\"551\" y=\"-104.2\" font-family=\"DejaVu Sans,Tahoma,Geneva,sans-serif\" font-size=\"11.00\" fill=\"blue\">TO</text>\n",
       "<text text-anchor=\"middle\" x=\"551\" y=\"-91\" font-family=\"DejaVu Sans,Tahoma,Geneva,sans-serif\" font-size=\"11.00\" fill=\"blue\">0000133</text>\n",
       "</a>\n",
       "</g>\n",
       "<!-- node7&#45;&gt;node1 -->\n",
       "<g id=\"edge14\" class=\"edge\"><title>node7&#45;&gt;node1</title>\n",
       "<a xlink:href=\"http://www.w3.org/2000/01/rdf-schema#subClassOf\" xlink:title=\"rdfs:subClassOf\" target=\"_other\">\n",
       "<path fill=\"none\" stroke=\"#9fc9e5\" stroke-opacity=\"0.376471\" d=\"M543.281,-83.8353C537.873,-73.6998 529.7,-61.4363 519,-54 488.599,-32.872 446.763,-24.4574 416.381,-21.128\"/>\n",
       "<polygon fill=\"#9fc9e5\" fill-opacity=\"0.376471\" stroke=\"#9fc9e5\" stroke-opacity=\"0.376471\" points=\"406.149,-20.1499 416.532,-16.622 411.127,-20.6257 416.104,-21.1016 416.104,-21.1016 416.104,-21.1016 411.127,-20.6257 415.676,-25.5812 406.149,-20.1499 406.149,-20.1499\"/>\n",
       "</a>\n",
       "<a xlink:href=\"http://www.w3.org/2000/01/rdf-schema#subClassOf\" xlink:title=\"rdfs:subClassOf\" target=\"_other\">\n",
       "<text text-anchor=\"middle\" x=\"564.222\" y=\"-56\" font-family=\"Times,serif\" font-size=\"10.00\" fill=\"#204080\">rdfs:subClassOf</text>\n",
       "</a>\n",
       "</g>\n",
       "<!-- node8 -->\n",
       "<g id=\"node16\" class=\"node\"><title>node8</title>\n",
       "<a xlink:href=\"http://purl.obolibrary.org/obo/TO_0000371\" xlink:title=\"TO\\n0000371\" target=\"_other\">\n",
       "<text text-anchor=\"middle\" x=\"638\" y=\"-104.2\" font-family=\"DejaVu Sans,Tahoma,Geneva,sans-serif\" font-size=\"11.00\" fill=\"blue\">TO</text>\n",
       "<text text-anchor=\"middle\" x=\"638\" y=\"-91\" font-family=\"DejaVu Sans,Tahoma,Geneva,sans-serif\" font-size=\"11.00\" fill=\"blue\">0000371</text>\n",
       "</a>\n",
       "</g>\n",
       "<!-- node8&#45;&gt;node1 -->\n",
       "<g id=\"edge16\" class=\"edge\"><title>node8&#45;&gt;node1</title>\n",
       "<a xlink:href=\"http://www.w3.org/2000/01/rdf-schema#subClassOf\" xlink:title=\"rdfs:subClassOf\" target=\"_other\">\n",
       "<path fill=\"none\" stroke=\"#9fc9e5\" stroke-opacity=\"0.376471\" d=\"M628.633,-83.9386C622.02,-73.5745 612.179,-61.0265 600,-54 569.466,-36.3837 471.716,-26.242 416.302,-21.7694\"/>\n",
       "<polygon fill=\"#9fc9e5\" fill-opacity=\"0.376471\" stroke=\"#9fc9e5\" stroke-opacity=\"0.376471\" points=\"406.145,-20.9748 416.466,-17.2685 411.13,-21.3648 416.115,-21.7548 416.115,-21.7548 416.115,-21.7548 411.13,-21.3648 415.764,-26.2411 406.145,-20.9748 406.145,-20.9748\"/>\n",
       "</a>\n",
       "<a xlink:href=\"http://www.w3.org/2000/01/rdf-schema#subClassOf\" xlink:title=\"rdfs:subClassOf\" target=\"_other\">\n",
       "<text text-anchor=\"middle\" x=\"647.222\" y=\"-56\" font-family=\"Times,serif\" font-size=\"10.00\" fill=\"#204080\">rdfs:subClassOf</text>\n",
       "</a>\n",
       "</g>\n",
       "<!-- node9 -->\n",
       "<g id=\"node18\" class=\"node\"><title>node9</title>\n",
       "<a xlink:href=\"http://purl.obolibrary.org/obo/TO_0000164\" xlink:title=\"TO\\n0000164\" target=\"_other\">\n",
       "<text text-anchor=\"middle\" x=\"725\" y=\"-104.2\" font-family=\"DejaVu Sans,Tahoma,Geneva,sans-serif\" font-size=\"11.00\" fill=\"blue\">TO</text>\n",
       "<text text-anchor=\"middle\" x=\"725\" y=\"-91\" font-family=\"DejaVu Sans,Tahoma,Geneva,sans-serif\" font-size=\"11.00\" fill=\"blue\">0000164</text>\n",
       "</a>\n",
       "</g>\n",
       "<!-- node9&#45;&gt;node1 -->\n",
       "<g id=\"edge18\" class=\"edge\"><title>node9&#45;&gt;node1</title>\n",
       "<a xlink:href=\"http://www.w3.org/2000/01/rdf-schema#subClassOf\" xlink:title=\"rdfs:subClassOf\" target=\"_other\">\n",
       "<path fill=\"none\" stroke=\"#9fc9e5\" stroke-opacity=\"0.376471\" d=\"M714.348,-83.7443C706.919,-73.3028 696.022,-60.7414 683,-54 637.401,-30.3937 487.997,-22.5082 416.204,-20.0417\"/>\n",
       "<polygon fill=\"#9fc9e5\" fill-opacity=\"0.376471\" stroke=\"#9fc9e5\" stroke-opacity=\"0.376471\" points=\"406.196,-19.7159 416.337,-15.5438 411.193,-19.8787 416.191,-20.0414 416.191,-20.0414 416.191,-20.0414 411.193,-19.8787 416.044,-24.539 406.196,-19.7159 406.196,-19.7159\"/>\n",
       "</a>\n",
       "<a xlink:href=\"http://www.w3.org/2000/01/rdf-schema#subClassOf\" xlink:title=\"rdfs:subClassOf\" target=\"_other\">\n",
       "<text text-anchor=\"middle\" x=\"731.222\" y=\"-56\" font-family=\"Times,serif\" font-size=\"10.00\" fill=\"#204080\">rdfs:subClassOf</text>\n",
       "</a>\n",
       "</g>\n",
       "</g>\n",
       "</svg>\n"
      ]
     },
     "metadata": {
      "unconfined": true
     },
     "output_type": "display_data"
    }
   ],
   "source": [
    "%endpoint http://sparql.hegroup.org/sparql/\n",
    "%display diagram\n",
    "\n",
    "PREFIX obo-term: <http://purl.obolibrary.org/obo/>\n",
    "CONSTRUCT \n",
    "{\n",
    "    ?x rdfs:subClassOf obo-term:TO_0000387 .\n",
    "}\n",
    "FROM <http://purl.obolibrary.org/obo/merged/TO>\n",
    "WHERE\n",
    "{\n",
    "    ?x rdfs:subClassOf obo-term:TO_0000387.\n",
    "    ?x rdfs:label  ?label.\n",
    "} LIMIT 20"
   ]
  },
  {
   "cell_type": "markdown",
   "metadata": {},
   "source": [
    "<h3>Test sparql 1.1</h3>\n",
    "THE ONTOBEE SPARQL ENPOINT DOES NOT SEEM TO SUPPORT SPARQL 1.1 FEATURES"
   ]
  },
  {
   "cell_type": "code",
   "execution_count": 19,
   "metadata": {
    "collapsed": false
   },
   "outputs": [
    {
     "data": {
      "text/html": [
       "<div class=\"krn-spql\"><div class=\"magic\">Endpoint set to: http://sparql.hegroup.org/sparql/</div><div class=\"magic\">Display: table</div></div>"
      ],
      "text/plain": [
       "Endpoint set to: http://sparql.hegroup.org/sparql/\n",
       "Display: table\n"
      ]
     },
     "metadata": {},
     "output_type": "display_data"
    },
    {
     "data": {
      "text/html": [
       "<div class=\"krn-spql\"><div class=\"krn-error\"><span class=\"title\">Error:</span> SPARQL error: QueryBadFormed: a bad request has been sent to the endpoint, probably the sparql query is bad formed. <br/><br/>Response:<br/>b'37000 Error SP030: SPARQL compiler, line 9: syntax error at \\'*\\' before \\'obo\\'\\n\\nSPARQL query:\\ndefine output:format &quot;HTTP+TTL text/rdf+n3&quot; PREFIX obo-term: &lt;http://purl.obolibrary.org/obo/&gt;\\nCONSTRUCT\\n{\\n?x rdfs:label ?label .\\n}\\nFROM &lt;http://purl.obolibrary.org/obo/merged/TO&gt;\\nWHERE\\n{\\n?x rdfs:subClassOf* obo-TO_0000608 .\\n?x rdfs:label  ?label.\\n}'</div></div>"
      ],
      "text/plain": [
       "Error: SPARQL error: QueryBadFormed: a bad request has been sent to the endpoint, probably the sparql query is bad formed. \n",
       "\n",
       "Response:\n",
       "b'37000 Error SP030: SPARQL compiler, line 9: syntax error at \\'*\\' before \\'obo\\'\\n\\nSPARQL query:\\ndefine output:format \"HTTP+TTL text/rdf+n3\" PREFIX obo-term: <http://purl.obolibrary.org/obo/>\\nCONSTRUCT\\n{\\n?x rdfs:label ?label .\\n}\\nFROM <http://purl.obolibrary.org/obo/merged/TO>\\nWHERE\\n{\\n?x rdfs:subClassOf* obo-TO_0000608 .\\n?x rdfs:label  ?label.\\n}'"
      ]
     },
     "metadata": {},
     "output_type": "display_data"
    }
   ],
   "source": [
    "%endpoint http://sparql.hegroup.org/sparql/\n",
    "%display table\n",
    "\n",
    "PREFIX obo-term: <http://purl.obolibrary.org/obo/>\n",
    "CONSTRUCT \n",
    "{\n",
    "    ?x rdfs:label ?label .\n",
    "}\n",
    "FROM <http://purl.obolibrary.org/obo/merged/TO>\n",
    "WHERE\n",
    "{\n",
    "    ?x rdfs:subClassOf* obo-TO_0000608 .\n",
    "    ?x rdfs:label  ?label.\n",
    "}"
   ]
  },
  {
   "cell_type": "markdown",
   "metadata": {},
   "source": [
    "<h3>Federated query</h3>\n",
    "NOT SUPPORTED. SPARQL 1.1 FEATURE"
   ]
  },
  {
   "cell_type": "code",
   "execution_count": 21,
   "metadata": {
    "collapsed": false
   },
   "outputs": [
    {
     "data": {
      "text/html": [
       "<div class=\"krn-spql\"><div class=\"krn-error\"><span class=\"title\">Error:</span> SPARQL error: QueryBadFormed: a bad request has been sent to the endpoint, probably the sparql query is bad formed. <br/><br/>Response:<br/>b&quot;37000 Error SP030: SPARQL compiler, line 0: Invalid character in SPARQL expression at '%'\\n\\nSPARQL query:\\nendpoint http://sparql.hegroup.org/sparql/\\n%display table\\n\\nPREFIX obo-term: &lt;http://purl.obolibrary.org/obo/&gt;\\nSELECT ?poterm ?polabel \\nFROM &lt;http://purl.obolibrary.org/obo/merged/PO&gt;\\nWHERE\\n{\\n    ?x rdf:type owl:class .\\n    ?x rdfs:label  ?label.\\n    SERVICE &lt;http://sparql.hegroup.org/sparql/&gt; {\\n        ?to ?p ?poterm\\n    }\\n}LIMIT 10\\n\\n&quot;</div></div>"
      ],
      "text/plain": [
       "Error: SPARQL error: QueryBadFormed: a bad request has been sent to the endpoint, probably the sparql query is bad formed. \n",
       "\n",
       "Response:\n",
       "b\"37000 Error SP030: SPARQL compiler, line 0: Invalid character in SPARQL expression at '%'\\n\\nSPARQL query:\\nendpoint http://sparql.hegroup.org/sparql/\\n%display table\\n\\nPREFIX obo-term: <http://purl.obolibrary.org/obo/>\\nSELECT ?poterm ?polabel \\nFROM <http://purl.obolibrary.org/obo/merged/PO>\\nWHERE\\n{\\n    ?x rdf:type owl:class .\\n    ?x rdfs:label  ?label.\\n    SERVICE <http://sparql.hegroup.org/sparql/> {\\n        ?to ?p ?poterm\\n    }\\n}LIMIT 10\\n\\n\""
      ]
     },
     "metadata": {},
     "output_type": "display_data"
    }
   ],
   "source": [
    "endpoint http://sparql.hegroup.org/sparql/\n",
    "%display table\n",
    "\n",
    "PREFIX obo-term: <http://purl.obolibrary.org/obo/>\n",
    "SELECT ?poterm ?polabel \n",
    "FROM <http://purl.obolibrary.org/obo/merged/PO>\n",
    "WHERE\n",
    "{\n",
    "    ?x rdf:type owl:class .\n",
    "    ?x rdfs:label  ?label.\n",
    "    SERVICE <http://purl.obolibrary.org/obo/merged/TO> {\n",
    "        ?to ?p ?poterm\n",
    "    }\n",
    "}LIMIT 10\n",
    "\n"
   ]
  },
  {
   "cell_type": "code",
   "execution_count": null,
   "metadata": {
    "collapsed": true
   },
   "outputs": [],
   "source": []
  }
 ],
 "metadata": {
  "kernelspec": {
   "display_name": "SPARQL",
   "language": "",
   "name": "sparql"
  },
  "language_info": {
   "codemirror_mode": {
    "name": "sparql"
   },
   "mimetype": "application/sparql-query",
   "name": "sparql",
   "pygments_lexer": "sparql-nb"
  }
 },
 "nbformat": 4,
 "nbformat_minor": 1
}
